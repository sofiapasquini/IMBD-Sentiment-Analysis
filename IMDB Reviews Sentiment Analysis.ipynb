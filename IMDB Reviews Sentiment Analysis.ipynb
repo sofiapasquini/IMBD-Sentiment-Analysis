{
 "cells": [
  {
   "cell_type": "markdown",
   "id": "respected-policy",
   "metadata": {},
   "source": [
    "# Text Mining using Dimensionality Reduction Methods\n",
    "\n",
    "Using a dataset from the Internet Movie Database consisting of 1000 reviews labelled as positive or negative by humans, I will use dimensionality reduction techniques in order to analyse and predict sentiment in a set of texts. The data include a set of text and a binary label (positive or negative).\n"
   ]
  },
  {
   "cell_type": "code",
   "execution_count": 1,
   "id": "pleasant-lobby",
   "metadata": {},
   "outputs": [],
   "source": [
    "# Import other packages\n",
    "import numpy as np\n",
    "import pandas as pd\n",
    "import torch\n",
    "import torch.nn as nn\n",
    "import torch.nn.functional as F\n",
    "import sklearn.feature_extraction.text as sktext\n",
    "from sklearn.decomposition import PCA\n",
    "from sklearn.linear_model import LogisticRegressionCV\n",
    "from sklearn.model_selection import train_test_split\n",
    "from sklearn.metrics import roc_curve, roc_auc_score, auc\n",
    "import matplotlib.pyplot as plt \n",
    "import seaborn as sns\n",
    "from mpl_toolkits.mplot3d import Axes3D\n",
    "%matplotlib inline"
   ]
  },
  {
   "cell_type": "code",
   "execution_count": 3,
   "id": "selective-solomon",
   "metadata": {},
   "outputs": [],
   "source": [
    "#import the data\n",
    "imdb_data = pd.read_excel('IMDB_Sample.xlsx')\n",
    "\n",
    "#define a transformer\n",
    "TfIDFTransformer = sktext.TfidfVectorizer(strip_accents='unicode', # Eliminate accents and special characters\n",
    "                      stop_words='english', # Eliminates stop words.\n",
    "                      min_df = 0.05, # Eliminate words that do not appear in more than 5% of texts\n",
    "                      max_df = 0.95, # Eliminate words that appear in more than 95% of texts\n",
    "                      sublinear_tf=True # Use sublinear weights (softplus)\n",
    "                      )\n",
    "\n",
    "# Train / test split\n",
    "x_train, x_test, y_train, y_test = train_test_split(imdb_data['texts'],\n",
    "                                                    imdb_data['class'],\n",
    "                                                    test_size=0.3,\n",
    "                                                    random_state=20210318)\n",
    "\n",
    "# Calculate the Tf-Idf transform.\n",
    "TfIDF_train = TfIDFTransformer.fit_transform(x_train)\n",
    "TfIDF_test = TfIDFTransformer.transform(x_test)\n",
    "\n",
    "# Turn to dense matrix as PCA does not like sparse ones.\n",
    "TfIDF_train = TfIDF_train.toarray()\n",
    "TfIDF_test = TfIDF_test.toarray()"
   ]
  },
  {
   "cell_type": "code",
   "execution_count": 4,
   "id": "lined-motion",
   "metadata": {},
   "outputs": [
    {
     "data": {
      "image/png": "[encoded data removed]",
      "text/plain": [
       "<Figure size 432x288 with 1 Axes>"
      ]
     },
     "metadata": {
      "needs_background": "light"
     },
     "output_type": "display_data"
    }
   ],
   "source": [
    "#Explore commonly-occuring concepts by performing Partial Component Analysis (PCA) on the data\n",
    "# the maximum number of concepts is the number of words ie 236\n",
    "import sklearn.decomposition as skd\n",
    "PCA=skd.PCA()\n",
    "Z_train=PCA.fit_transform(TfIDF_train)\n",
    "exp_var1=PCA.explained_variance_ratio_ # this is a vector holding the explained variance for each of the components\n",
    "\n",
    "# Make the plot\n",
    "comps=np.linspace(0,236, 236) # make the x values to be plotted\n",
    "plt.plot(comps, exp_var1)\n",
    "plt.show()"
   ]
  },
  {
   "cell_type": "code",
   "execution_count": 10,
   "id": "married-restoration",
   "metadata": {},
   "outputs": [
    {
     "name": "stdout",
     "output_type": "stream",
     "text": [
      "113\n"
     ]
    }
   ],
   "source": [
    "# To get the exact index where the variance is above 75%\n",
    "# print(len(comps))\n",
    "#the sum of all the variance ratios equals 1; we want to just find out the index of the component\n",
    "#which represents the stopping point, before which 75% of the data is explained.\n",
    "total=0 #will keep a total of the sum of variance from each component\n",
    "idx=0 #stores each of the indices as they are iterated over\n",
    "for i in range(236):\n",
    "    total+=exp_var1[i]\n",
    "    idx=i #keep track of the current index\n",
    "    if total>=0.75:\n",
    "        break #break out of the loop once 75% total variance is reached\n",
    "\n",
    "print(idx)\n",
    "    \n",
    "    "
   ]
  },
  {
   "cell_type": "code",
   "execution_count": 14,
   "id": "average-album",
   "metadata": {},
   "outputs": [
    {
     "data": {
      "text/plain": [
       "0.04860463896012033"
      ]
     },
     "execution_count": 14,
     "metadata": {},
     "output_type": "execute_result"
    }
   ],
   "source": [
    "# Explained variance.\n",
    "#start by acessing the components, they are already ordered by decreasing importance\n",
    "components=PCA.components_\n",
    "#grab the top three\n",
    "topThree=components[:3,:]\n",
    "#now sum each of their explained variances\n",
    "topThreeVariance=sum(exp_var1[:3])\n",
    "print(topThreeVariance) ##this is the variance explained by the top three concepts\n"
   ]
  },
  {
   "cell_type": "code",
   "execution_count": 19,
   "id": "peaceful-diagram",
   "metadata": {},
   "outputs": [],
   "source": [
    "# Get words per component\n",
    "masterList=TfIDFTransformer.get_feature_names() #this is a list of all of the words\n",
    "#iterate over each of the top three concepts (ie over each row) and find the top 10 words ()\n",
    "#store the index of the words in the column in order to access the actual words from the master list later\n",
    "indices=[0,0,0] #will be a list of three lists, each holding the indices of the top 10 words in each concept\n",
    "for i in range(3):\n",
    "    features=topThree[i,:].reshape(-1,)\n",
    "    topIdx=np.argsort(features)[-10:] #argsort sorts the items in the iterable in decreasing order and returns the corresponding indices of the original iterable\n",
    "    indices[i]=topIdx"
   ]
  },
  {
   "cell_type": "code",
   "execution_count": 21,
   "id": "every-taylor",
   "metadata": {},
   "outputs": [
    {
     "name": "stdout",
     "output_type": "stream",
     "text": [
      "['thought', 'just', 'terrible', 'think', 'don', 'watch', 'like', 'movies', 'bad', 'movie']\n"
     ]
    }
   ],
   "source": [
    "# Concept 1\n",
    "words1=[] #an empty list to hold the words\n",
    "for i in indices[0]:\n",
    "    words1.append(masterList[i])\n",
    "print(words1)"
   ]
  },
  {
   "cell_type": "code",
   "execution_count": 22,
   "id": "smoking-madrid",
   "metadata": {},
   "outputs": [
    {
     "name": "stdout",
     "output_type": "stream",
     "text": [
      "['movies', 'cast', 'loved', 'excellent', 'characters', 'john', 'love', 'story', 'great', 'series']\n"
     ]
    }
   ],
   "source": [
    "# Concept 2\n",
    "words2=[] #an empty list to hold the words\n",
    "for i in indices[1]:\n",
    "    words2.append(masterList[i])\n",
    "print(words2)"
   ]
  },
  {
   "cell_type": "code",
   "execution_count": 23,
   "id": "failing-collection",
   "metadata": {},
   "outputs": [
    {
     "name": "stdout",
     "output_type": "stream",
     "text": [
      "['thought', 'just', 'terrible', 'think', 'don', 'watch', 'like', 'movies', 'bad', 'movie']\n"
     ]
    }
   ],
   "source": [
    "# Concept 3\n",
    "words3=[] #an empty list to hold the words\n",
    "for i in indices[0]:\n",
    "    words3.append(masterList[i])\n",
    "print(words3)"
   ]
  },
  {
   "cell_type": "code",
   "execution_count": 5,
   "id": "spread-comparison",
   "metadata": {},
   "outputs": [
    {
     "name": "stdout",
     "output_type": "stream",
     "text": [
      "(2, 236)\n"
     ]
    },
    {
     "data": {
      "image/png": "[encoded data removed]",
      "text/plain": [
       "<Figure size 432x288 with 1 Axes>"
      ]
     },
     "metadata": {
      "needs_background": "light"
     },
     "output_type": "display_data"
    }
   ],
   "source": [
    "# Apply the test data\n",
    "Z=PCA.transform(TfIDF_test)\n",
    "ZfirstTwo=PCA.components_[:2,:]\n",
    "print(ZfirstTwo.shape)\n",
    "# Plot the two different set of points filtering by label.\n",
    "plt.scatter(comps, ZfirstTwo[0,:], label=\"component 1\")\n",
    "plt.scatter(comps, ZfirstTwo[1,:], label=\"component 2\")\n",
    "plt.show()"
   ]
  },
  {
   "cell_type": "markdown",
   "id": "insured-wonder",
   "metadata": {},
   "source": [
    "Just based on this plot it is hard to distinguish between which points were assigned positive and negative labels, as they all seem to be relatively equivalently distributed about 0."
   ]
  },
  {
   "cell_type": "code",
   "execution_count": 6,
   "id": "instructional-campaign",
   "metadata": {},
   "outputs": [],
   "source": [
    "#now explore the ability of encoding and de-coding of autoencoders; use a grid search to tune to the optimal architecture\n",
    "class autoencoder1(nn.Module):\n",
    "    def __init__(self):\n",
    "        super(autoencoder1, self).__init__()\n",
    "        self.encoder = nn.Sequential(\n",
    "            nn.Linear(236,100),\n",
    "            nn.ReLU(),\n",
    "            nn.Linear(100,60),\n",
    "            nn.ReLU(),\n",
    "            )\n",
    "        self.decoder = nn.Sequential(\n",
    "            nn.Linear(60,100),\n",
    "            nn.ReLU(),\n",
    "            nn.Linear(100, 236),\n",
    "            nn.ReLU(),\n",
    "            )\n",
    "\n",
    "    def forward(self, x):\n",
    "        x = self.encoder(x)\n",
    "        x = self.decoder(x)\n",
    "        return x\n",
    "autoencoder1=autoencoder1()\n",
    "loss_fn=torch.nn.MSELoss()\n",
    "learning_rate=0.1"
   ]
  },
  {
   "cell_type": "code",
   "execution_count": 7,
   "id": "daily-depression",
   "metadata": {},
   "outputs": [
    {
     "ename": "KeyboardInterrupt",
     "evalue": "",
     "output_type": "error",
     "traceback": [
      "\u001b[0;31m---------------------------------------------------------------------------\u001b[0m",
      "\u001b[0;31mKeyboardInterrupt\u001b[0m                         Traceback (most recent call last)",
      "\u001b[0;32m<ipython-input-7-1fd5547a9116>\u001b[0m in \u001b[0;36m<module>\u001b[0;34m\u001b[0m\n\u001b[1;32m     16\u001b[0m         \u001b[0mepochs1\u001b[0m\u001b[0;34m.\u001b[0m\u001b[0mappend\u001b[0m\u001b[0;34m(\u001b[0m\u001b[0mi\u001b[0m\u001b[0;34m)\u001b[0m\u001b[0;34m\u001b[0m\u001b[0;34m\u001b[0m\u001b[0m\n\u001b[1;32m     17\u001b[0m     \u001b[0mautoencoder1\u001b[0m\u001b[0;34m.\u001b[0m\u001b[0mzero_grad\u001b[0m\u001b[0;34m(\u001b[0m\u001b[0;34m)\u001b[0m\u001b[0;34m\u001b[0m\u001b[0;34m\u001b[0m\u001b[0m\n\u001b[0;32m---> 18\u001b[0;31m     \u001b[0mloss\u001b[0m\u001b[0;34m.\u001b[0m\u001b[0mbackward\u001b[0m\u001b[0;34m(\u001b[0m\u001b[0;34m)\u001b[0m\u001b[0;34m\u001b[0m\u001b[0;34m\u001b[0m\u001b[0m\n\u001b[0m\u001b[1;32m     19\u001b[0m     \u001b[0;32mwith\u001b[0m \u001b[0mtorch\u001b[0m\u001b[0;34m.\u001b[0m\u001b[0mno_grad\u001b[0m\u001b[0;34m(\u001b[0m\u001b[0;34m)\u001b[0m\u001b[0;34m:\u001b[0m\u001b[0;34m\u001b[0m\u001b[0;34m\u001b[0m\u001b[0m\n\u001b[1;32m     20\u001b[0m         \u001b[0;32mfor\u001b[0m \u001b[0mparam\u001b[0m \u001b[0;32min\u001b[0m \u001b[0mautoencoder1\u001b[0m\u001b[0;34m.\u001b[0m\u001b[0mparameters\u001b[0m\u001b[0;34m(\u001b[0m\u001b[0;34m)\u001b[0m\u001b[0;34m:\u001b[0m\u001b[0;34m\u001b[0m\u001b[0;34m\u001b[0m\u001b[0m\n",
      "\u001b[0;32m/usr/local/lib/python3.9/site-packages/torch/tensor.py\u001b[0m in \u001b[0;36mbackward\u001b[0;34m(self, gradient, retain_graph, create_graph, inputs)\u001b[0m\n\u001b[1;32m    243\u001b[0m                 \u001b[0mcreate_graph\u001b[0m\u001b[0;34m=\u001b[0m\u001b[0mcreate_graph\u001b[0m\u001b[0;34m,\u001b[0m\u001b[0;34m\u001b[0m\u001b[0;34m\u001b[0m\u001b[0m\n\u001b[1;32m    244\u001b[0m                 inputs=inputs)\n\u001b[0;32m--> 245\u001b[0;31m         \u001b[0mtorch\u001b[0m\u001b[0;34m.\u001b[0m\u001b[0mautograd\u001b[0m\u001b[0;34m.\u001b[0m\u001b[0mbackward\u001b[0m\u001b[0;34m(\u001b[0m\u001b[0mself\u001b[0m\u001b[0;34m,\u001b[0m \u001b[0mgradient\u001b[0m\u001b[0;34m,\u001b[0m \u001b[0mretain_graph\u001b[0m\u001b[0;34m,\u001b[0m \u001b[0mcreate_graph\u001b[0m\u001b[0;34m,\u001b[0m \u001b[0minputs\u001b[0m\u001b[0;34m=\u001b[0m\u001b[0minputs\u001b[0m\u001b[0;34m)\u001b[0m\u001b[0;34m\u001b[0m\u001b[0;34m\u001b[0m\u001b[0m\n\u001b[0m\u001b[1;32m    246\u001b[0m \u001b[0;34m\u001b[0m\u001b[0m\n\u001b[1;32m    247\u001b[0m     \u001b[0;32mdef\u001b[0m \u001b[0mregister_hook\u001b[0m\u001b[0;34m(\u001b[0m\u001b[0mself\u001b[0m\u001b[0;34m,\u001b[0m \u001b[0mhook\u001b[0m\u001b[0;34m)\u001b[0m\u001b[0;34m:\u001b[0m\u001b[0;34m\u001b[0m\u001b[0;34m\u001b[0m\u001b[0m\n",
      "\u001b[0;32m/usr/local/lib/python3.9/site-packages/torch/autograd/__init__.py\u001b[0m in \u001b[0;36mbackward\u001b[0;34m(tensors, grad_tensors, retain_graph, create_graph, grad_variables, inputs)\u001b[0m\n\u001b[1;32m    143\u001b[0m         \u001b[0mretain_graph\u001b[0m \u001b[0;34m=\u001b[0m \u001b[0mcreate_graph\u001b[0m\u001b[0;34m\u001b[0m\u001b[0;34m\u001b[0m\u001b[0m\n\u001b[1;32m    144\u001b[0m \u001b[0;34m\u001b[0m\u001b[0m\n\u001b[0;32m--> 145\u001b[0;31m     Variable._execution_engine.run_backward(\n\u001b[0m\u001b[1;32m    146\u001b[0m         \u001b[0mtensors\u001b[0m\u001b[0;34m,\u001b[0m \u001b[0mgrad_tensors_\u001b[0m\u001b[0;34m,\u001b[0m \u001b[0mretain_graph\u001b[0m\u001b[0;34m,\u001b[0m \u001b[0mcreate_graph\u001b[0m\u001b[0;34m,\u001b[0m \u001b[0minputs\u001b[0m\u001b[0;34m,\u001b[0m\u001b[0;34m\u001b[0m\u001b[0;34m\u001b[0m\u001b[0m\n\u001b[1;32m    147\u001b[0m         allow_unreachable=True, accumulate_grad=True)  # allow_unreachable flag\n",
      "\u001b[0;31mKeyboardInterrupt\u001b[0m: "
     ]
    }
   ],
   "source": [
    "# Train\n",
    "from sklearn.preprocessing import StandardScaler\n",
    "scaler=StandardScaler()\n",
    "X_scaled=scaler.fit_transform(TfIDF_train)\n",
    "X_scaled=X_scaled.astype(np.float32)\n",
    "X_scaled=torch.from_numpy(X_scaled)#convert the data set to tensors\n",
    "\n",
    "#now actually train the model\n",
    "loss_encoder1=[] # a container to hold the losses for the first encoder\n",
    "epochs1=[] # a container to hold the number of epochs explored for this first encoder\n",
    "for i in range(10000):\n",
    "    y_pred=autoencoder1(X_scaled)\n",
    "    loss=loss_fn(y_pred,X_scaled) # this is the error btw the original and reconstructed data\n",
    "    if i%100==99: #only storing every 100 rounds\n",
    "        loss_encoder1.append(loss.item())\n",
    "        epochs1.append(i)\n",
    "    autoencoder1.zero_grad()\n",
    "    loss.backward()\n",
    "    with torch.no_grad():\n",
    "        for param in autoencoder1.parameters():\n",
    "            param-=learning_rate*param.grad\n",
    "        \n",
    "        "
   ]
  },
  {
   "cell_type": "code",
   "execution_count": null,
   "id": "solid-infection",
   "metadata": {},
   "outputs": [],
   "source": [
    "# Plot errors\n",
    "plt.plot(epochs1, loss_encoder1)\n",
    "plt.show()"
   ]
  },
  {
   "cell_type": "code",
   "execution_count": null,
   "id": "deadly-murder",
   "metadata": {},
   "outputs": [],
   "source": [
    "#now compare the performance of a logistic regression model over the original TfIDF data set, the PCA-reduced data set, and the encoded data set; visualize performance using ROC curves"
   ]
  },
  {
   "cell_type": "code",
   "execution_count": 50,
   "id": "expressed-supervision",
   "metadata": {},
   "outputs": [
    {
     "name": "stdout",
     "output_type": "stream",
     "text": [
      "0.859\n"
     ]
    },
    {
     "data": {
      "image/png": "[encoded data removed]",
      "text/plain": [
       "<Figure size 432x288 with 1 Axes>"
      ]
     },
     "metadata": {
      "needs_background": "light"
     },
     "output_type": "display_data"
    }
   ],
   "source": [
    "# Full dataset regression and AUC plot / calculation\n",
    "model1=LogisticRegressionCV(cv=5, max_iter=1000).fit(TfIDF_train, y_train)\n",
    "y_pred=model1.predict(TfIDF_test)\n",
    "y_pred_proba=model1.predict_proba(TfIDF_test)\n",
    "fpr, tpr, _=roc_curve(y_test, y_pred_proba[:,1], pos_label=1)\n",
    "auc = np.round(roc_auc_score(y_true = y_test, y_score = y_pred_proba[:,1]),decimals = 3)\n",
    "print(auc)\n",
    "#now plot the ROC curve\n",
    "plt.plot(fpr, tpr)\n",
    "plt.show()"
   ]
  },
  {
   "cell_type": "code",
   "execution_count": 57,
   "id": "close-belize",
   "metadata": {},
   "outputs": [
    {
     "name": "stdout",
     "output_type": "stream",
     "text": [
      "0.7353228962818004\n"
     ]
    },
    {
     "data": {
      "image/png": "[encoded data removed]",
      "text/plain": [
       "<Figure size 432x288 with 1 Axes>"
      ]
     },
     "metadata": {
      "needs_background": "light"
     },
     "output_type": "display_data"
    }
   ],
   "source": [
    "# PCA dataset regression and AUC plot / calculation\n",
    "PCA=skd.PCA(n_components=60)\n",
    "x_train_pca=PCA.fit_transform(TfIDF_train)\n",
    "x_test_pca=PCA.fit_transform(TfIDF_test)\n",
    "LogReg=LogisticRegressionCV(cv=5, max_iter=1000).fit(x_train_pca, y_train)\n",
    "y_pred_probs_pca=LogReg.predict_proba(x_test_pca)\n",
    "fpr, tpr,_=roc_curve(y_test,y_pred_probs_pca[:,1])\n",
    "auc2=roc_auc_score(y_test, y_pred_probs_pca[:,1])\n",
    "print(auc2)\n",
    "plt.plot(fpr, tpr)\n",
    "plt.show()\n"
   ]
  },
  {
   "cell_type": "code",
   "execution_count": 63,
   "id": "latter-queens",
   "metadata": {},
   "outputs": [],
   "source": [
    "# Autoencoder dataset regression and AUC plot / calculation\n",
    "x_train_encoded=autoencoder1.encoder(torch.from_numpy(TfIDF_train).float()).detach().numpy()\n",
    "x_test_encoded=autoencoder1.encoder(torch.from_numpy(TfIDF_test).float()).detach().numpy()\n",
    "LogReg=LogisticRegressionCV(cv=5, max_iter=1000).fit(x_train_encoded, y_train)\n",
    "y_pred_probs_encoded=LogReg.predict_proba(x_test_encoded)\n",
    "fpr, tpr,_=roc_curve(y_test, y_pred_probs_encoded[:,1])\n",
    "auc3=roc_auc_score"
   ]
  }
 ],
 "metadata": {
  "kernelspec": {
   "display_name": "Python 3",
   "language": "python",
   "name": "python3"
  },
  "language_info": {
   "codemirror_mode": {
    "name": "ipython",
    "version": 3
   },
   "file_extension": ".py",
   "mimetype": "text/x-python",
   "name": "python",
   "nbconvert_exporter": "python",
   "pygments_lexer": "ipython3",
   "version": "3.9.2"
  }
 },
 "nbformat": 4,
 "nbformat_minor": 5
}
